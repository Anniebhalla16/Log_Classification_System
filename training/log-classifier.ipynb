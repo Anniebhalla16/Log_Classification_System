{
 "cells": [
  {
   "cell_type": "markdown",
   "id": "71d11784",
   "metadata": {},
   "source": [
    "Data Load"
   ]
  },
  {
   "cell_type": "code",
   "execution_count": 4,
   "id": "d90fecfc",
   "metadata": {},
   "outputs": [],
   "source": [
    "import numpy as np\n",
    "import pandas as pd"
   ]
  },
  {
   "cell_type": "code",
   "execution_count": 5,
   "id": "a6bd5f68",
   "metadata": {},
   "outputs": [
    {
     "data": {
      "text/html": [
       "<div>\n",
       "<style scoped>\n",
       "    .dataframe tbody tr th:only-of-type {\n",
       "        vertical-align: middle;\n",
       "    }\n",
       "\n",
       "    .dataframe tbody tr th {\n",
       "        vertical-align: top;\n",
       "    }\n",
       "\n",
       "    .dataframe thead th {\n",
       "        text-align: right;\n",
       "    }\n",
       "</style>\n",
       "<table border=\"1\" class=\"dataframe\">\n",
       "  <thead>\n",
       "    <tr style=\"text-align: right;\">\n",
       "      <th></th>\n",
       "      <th>timestamp</th>\n",
       "      <th>source</th>\n",
       "      <th>log_message</th>\n",
       "      <th>target_label</th>\n",
       "      <th>complexity</th>\n",
       "    </tr>\n",
       "  </thead>\n",
       "  <tbody>\n",
       "    <tr>\n",
       "      <th>0</th>\n",
       "      <td>2025-06-27 07:20:25</td>\n",
       "      <td>ModernCRM</td>\n",
       "      <td>nova.osapi_compute.wsgi.server [req-b9718cd8-f...</td>\n",
       "      <td>HTTP Status</td>\n",
       "      <td>bert</td>\n",
       "    </tr>\n",
       "    <tr>\n",
       "      <th>1</th>\n",
       "      <td>1/14/2025 23:07</td>\n",
       "      <td>ModernCRM</td>\n",
       "      <td>Email service experiencing issues with sending</td>\n",
       "      <td>Critical Error</td>\n",
       "      <td>bert</td>\n",
       "    </tr>\n",
       "    <tr>\n",
       "      <th>2</th>\n",
       "      <td>1/17/2025 1:29</td>\n",
       "      <td>AnalyticsEngine</td>\n",
       "      <td>Unauthorized access to data was attempted</td>\n",
       "      <td>Security Alert</td>\n",
       "      <td>bert</td>\n",
       "    </tr>\n",
       "    <tr>\n",
       "      <th>3</th>\n",
       "      <td>2025-07-12 00:24:16</td>\n",
       "      <td>ModernHR</td>\n",
       "      <td>nova.osapi_compute.wsgi.server [req-4895c258-b...</td>\n",
       "      <td>HTTP Status</td>\n",
       "      <td>bert</td>\n",
       "    </tr>\n",
       "    <tr>\n",
       "      <th>4</th>\n",
       "      <td>2025-06-02 18:25:23</td>\n",
       "      <td>BillingSystem</td>\n",
       "      <td>nova.osapi_compute.wsgi.server [req-ee8bc8ba-9...</td>\n",
       "      <td>HTTP Status</td>\n",
       "      <td>bert</td>\n",
       "    </tr>\n",
       "  </tbody>\n",
       "</table>\n",
       "</div>"
      ],
      "text/plain": [
       "             timestamp           source  \\\n",
       "0  2025-06-27 07:20:25        ModernCRM   \n",
       "1      1/14/2025 23:07        ModernCRM   \n",
       "2       1/17/2025 1:29  AnalyticsEngine   \n",
       "3  2025-07-12 00:24:16         ModernHR   \n",
       "4  2025-06-02 18:25:23    BillingSystem   \n",
       "\n",
       "                                         log_message    target_label  \\\n",
       "0  nova.osapi_compute.wsgi.server [req-b9718cd8-f...     HTTP Status   \n",
       "1     Email service experiencing issues with sending  Critical Error   \n",
       "2          Unauthorized access to data was attempted  Security Alert   \n",
       "3  nova.osapi_compute.wsgi.server [req-4895c258-b...     HTTP Status   \n",
       "4  nova.osapi_compute.wsgi.server [req-ee8bc8ba-9...     HTTP Status   \n",
       "\n",
       "  complexity  \n",
       "0       bert  \n",
       "1       bert  \n",
       "2       bert  \n",
       "3       bert  \n",
       "4       bert  "
      ]
     },
     "execution_count": 5,
     "metadata": {},
     "output_type": "execute_result"
    }
   ],
   "source": [
    "df = pd.read_csv(\"dataset/synthetic_logs.csv\")\n",
    "df.head()"
   ]
  },
  {
   "cell_type": "code",
   "execution_count": 6,
   "id": "e0bee90b",
   "metadata": {},
   "outputs": [
    {
     "data": {
      "text/plain": [
       "array(['HTTP Status', 'Critical Error', 'Security Alert', 'Error',\n",
       "       'System Notification', 'Resource Usage', 'User Action',\n",
       "       'Workflow Error', 'Deprecation Warning'], dtype=object)"
      ]
     },
     "execution_count": 6,
     "metadata": {},
     "output_type": "execute_result"
    }
   ],
   "source": [
    "df.target_label.unique()"
   ]
  },
  {
   "cell_type": "markdown",
   "id": "3d0b40bb",
   "metadata": {},
   "source": [
    "Create Word Embeddings"
   ]
  },
  {
   "cell_type": "code",
   "execution_count": 7,
   "id": "0e4ba686",
   "metadata": {},
   "outputs": [
    {
     "data": {
      "text/plain": [
       "array(['ModernCRM', 'AnalyticsEngine', 'ModernHR', 'BillingSystem',\n",
       "       'ThirdPartyAPI', 'LegacyCRM'], dtype=object)"
      ]
     },
     "execution_count": 7,
     "metadata": {},
     "output_type": "execute_result"
    }
   ],
   "source": [
    "df.source.unique()"
   ]
  },
  {
   "cell_type": "code",
   "execution_count": 8,
   "id": "18972725",
   "metadata": {},
   "outputs": [
    {
     "name": "stderr",
     "output_type": "stream",
     "text": [
      "/Users/anniebhalla/Desktop/Universität Stuttgart/Projects/Log_Classification_System/venv/lib/python3.12/site-packages/tqdm/auto.py:21: TqdmWarning: IProgress not found. Please update jupyter and ipywidgets. See https://ipywidgets.readthedocs.io/en/stable/user_install.html\n",
      "  from .autonotebook import tqdm as notebook_tqdm\n"
     ]
    }
   ],
   "source": [
    "# To find out regex patters of log_messages we use clustering = DBSCAN\n",
    "from sentence_transformers import SentenceTransformer\n",
    "\n",
    "# Loading pretrained sentence transformer model\n",
    "model = SentenceTransformer('all-MiniLM-L6-v2')\n",
    "\n",
    "# generate embeddings for log_messages\n",
    "embeddings = model.encode(df['log_message'].tolist())\n"
   ]
  },
  {
   "cell_type": "code",
   "execution_count": 9,
   "id": "43ef9175",
   "metadata": {},
   "outputs": [
    {
     "name": "stdout",
     "output_type": "stream",
     "text": [
      "      Dim_0     Dim_1     Dim_2     Dim_3     Dim_4     Dim_5     Dim_6  \\\n",
      "0 -0.102940  0.033546 -0.022026  0.001551 -0.009869 -0.178956 -0.063441   \n",
      "1  0.008046 -0.035739  0.049387 -0.007192  0.000618 -0.090568  0.057559   \n",
      "\n",
      "      Dim_7     Dim_8     Dim_9  ...   Dim_374   Dim_375   Dim_376   Dim_377  \\\n",
      "0 -0.060176  0.028111  0.059962  ... -0.074033  0.018422 -0.008649 -0.088356   \n",
      "1 -0.043945  0.017475  0.052120  ...  0.014534 -0.046097  0.050255 -0.072703   \n",
      "\n",
      "    Dim_378   Dim_379   Dim_380   Dim_381   Dim_382   Dim_383  \n",
      "0 -0.059198 -0.000101  0.112914  0.004578 -0.042597  0.003226  \n",
      "1  0.029278  0.056266 -0.038635  0.015383 -0.062309 -0.027747  \n",
      "\n",
      "[2 rows x 384 columns]\n"
     ]
    }
   ],
   "source": [
    "# Create a DataFrame for the first two embeddings\n",
    "embeddings_df = pd.DataFrame(embeddings, columns=[f\"Dim_{i}\" for i in range(embeddings.shape[1])])\n",
    "print(embeddings_df.head(2))"
   ]
  },
  {
   "cell_type": "markdown",
   "id": "e0be3dbd",
   "metadata": {},
   "source": [
    "Perform DBSCAN Clustering"
   ]
  },
  {
   "cell_type": "code",
   "execution_count": 10,
   "id": "1df486f8",
   "metadata": {},
   "outputs": [
    {
     "data": {
      "text/html": [
       "<div>\n",
       "<style scoped>\n",
       "    .dataframe tbody tr th:only-of-type {\n",
       "        vertical-align: middle;\n",
       "    }\n",
       "\n",
       "    .dataframe tbody tr th {\n",
       "        vertical-align: top;\n",
       "    }\n",
       "\n",
       "    .dataframe thead th {\n",
       "        text-align: right;\n",
       "    }\n",
       "</style>\n",
       "<table border=\"1\" class=\"dataframe\">\n",
       "  <thead>\n",
       "    <tr style=\"text-align: right;\">\n",
       "      <th></th>\n",
       "      <th>timestamp</th>\n",
       "      <th>source</th>\n",
       "      <th>log_message</th>\n",
       "      <th>target_label</th>\n",
       "      <th>complexity</th>\n",
       "      <th>cluster</th>\n",
       "    </tr>\n",
       "  </thead>\n",
       "  <tbody>\n",
       "    <tr>\n",
       "      <th>0</th>\n",
       "      <td>2025-06-27 07:20:25</td>\n",
       "      <td>ModernCRM</td>\n",
       "      <td>nova.osapi_compute.wsgi.server [req-b9718cd8-f...</td>\n",
       "      <td>HTTP Status</td>\n",
       "      <td>bert</td>\n",
       "      <td>0</td>\n",
       "    </tr>\n",
       "    <tr>\n",
       "      <th>1</th>\n",
       "      <td>1/14/2025 23:07</td>\n",
       "      <td>ModernCRM</td>\n",
       "      <td>Email service experiencing issues with sending</td>\n",
       "      <td>Critical Error</td>\n",
       "      <td>bert</td>\n",
       "      <td>1</td>\n",
       "    </tr>\n",
       "  </tbody>\n",
       "</table>\n",
       "</div>"
      ],
      "text/plain": [
       "             timestamp     source  \\\n",
       "0  2025-06-27 07:20:25  ModernCRM   \n",
       "1      1/14/2025 23:07  ModernCRM   \n",
       "\n",
       "                                         log_message    target_label  \\\n",
       "0  nova.osapi_compute.wsgi.server [req-b9718cd8-f...     HTTP Status   \n",
       "1     Email service experiencing issues with sending  Critical Error   \n",
       "\n",
       "  complexity  cluster  \n",
       "0       bert        0  \n",
       "1       bert        1  "
      ]
     },
     "execution_count": 10,
     "metadata": {},
     "output_type": "execute_result"
    }
   ],
   "source": [
    "\n",
    "from sklearn.cluster import DBSCAN \n",
    "# Perform DBSCAN clustering\n",
    "# Check should be tight\n",
    "dbscan =DBSCAN(eps=0.2, min_samples=1, metric='cosine')\n",
    "clusters  = dbscan.fit_predict(embeddings)\n",
    "\n",
    "# Add cluster to dataframe\n",
    "df['cluster'] = clusters\n",
    "df.head(2)"
   ]
  },
  {
   "cell_type": "code",
   "execution_count": 11,
   "id": "b6a1e9d7",
   "metadata": {},
   "outputs": [
    {
     "data": {
      "text/html": [
       "<div>\n",
       "<style scoped>\n",
       "    .dataframe tbody tr th:only-of-type {\n",
       "        vertical-align: middle;\n",
       "    }\n",
       "\n",
       "    .dataframe tbody tr th {\n",
       "        vertical-align: top;\n",
       "    }\n",
       "\n",
       "    .dataframe thead th {\n",
       "        text-align: right;\n",
       "    }\n",
       "</style>\n",
       "<table border=\"1\" class=\"dataframe\">\n",
       "  <thead>\n",
       "    <tr style=\"text-align: right;\">\n",
       "      <th></th>\n",
       "      <th>timestamp</th>\n",
       "      <th>source</th>\n",
       "      <th>log_message</th>\n",
       "      <th>target_label</th>\n",
       "      <th>complexity</th>\n",
       "      <th>cluster</th>\n",
       "    </tr>\n",
       "  </thead>\n",
       "  <tbody>\n",
       "    <tr>\n",
       "      <th>1</th>\n",
       "      <td>1/14/2025 23:07</td>\n",
       "      <td>ModernCRM</td>\n",
       "      <td>Email service experiencing issues with sending</td>\n",
       "      <td>Critical Error</td>\n",
       "      <td>bert</td>\n",
       "      <td>1</td>\n",
       "    </tr>\n",
       "    <tr>\n",
       "      <th>10</th>\n",
       "      <td>8/9/2025 18:58</td>\n",
       "      <td>ModernCRM</td>\n",
       "      <td>Email server encountered a sending fault</td>\n",
       "      <td>Error</td>\n",
       "      <td>bert</td>\n",
       "      <td>1</td>\n",
       "    </tr>\n",
       "    <tr>\n",
       "      <th>217</th>\n",
       "      <td>1/22/2025 5:45</td>\n",
       "      <td>BillingSystem</td>\n",
       "      <td>Mail service encountered a delivery glitch</td>\n",
       "      <td>Error</td>\n",
       "      <td>bert</td>\n",
       "      <td>1</td>\n",
       "    </tr>\n",
       "    <tr>\n",
       "      <th>248</th>\n",
       "      <td>5/2/2025 23:04</td>\n",
       "      <td>ModernHR</td>\n",
       "      <td>Service disruption caused by email sending error</td>\n",
       "      <td>Critical Error</td>\n",
       "      <td>bert</td>\n",
       "      <td>1</td>\n",
       "    </tr>\n",
       "    <tr>\n",
       "      <th>265</th>\n",
       "      <td>3/30/2025 23:53</td>\n",
       "      <td>ModernCRM</td>\n",
       "      <td>Email system had a problem sending emails</td>\n",
       "      <td>Error</td>\n",
       "      <td>bert</td>\n",
       "      <td>1</td>\n",
       "    </tr>\n",
       "    <tr>\n",
       "      <th>361</th>\n",
       "      <td>11/19/2025 23:06</td>\n",
       "      <td>BillingSystem</td>\n",
       "      <td>Email service experienced a sending issue</td>\n",
       "      <td>Error</td>\n",
       "      <td>bert</td>\n",
       "      <td>1</td>\n",
       "    </tr>\n",
       "    <tr>\n",
       "      <th>450</th>\n",
       "      <td>10/27/2025 5:59</td>\n",
       "      <td>ThirdPartyAPI</td>\n",
       "      <td>Email delivery system encountered an error</td>\n",
       "      <td>Error</td>\n",
       "      <td>bert</td>\n",
       "      <td>1</td>\n",
       "    </tr>\n",
       "    <tr>\n",
       "      <th>477</th>\n",
       "      <td>12/2/2025 10:30</td>\n",
       "      <td>AnalyticsEngine</td>\n",
       "      <td>Email transmission error caused service impact</td>\n",
       "      <td>Critical Error</td>\n",
       "      <td>bert</td>\n",
       "      <td>1</td>\n",
       "    </tr>\n",
       "    <tr>\n",
       "      <th>570</th>\n",
       "      <td>11/7/2025 18:08</td>\n",
       "      <td>ThirdPartyAPI</td>\n",
       "      <td>Email service impacted by sending failure</td>\n",
       "      <td>Critical Error</td>\n",
       "      <td>bert</td>\n",
       "      <td>1</td>\n",
       "    </tr>\n",
       "    <tr>\n",
       "      <th>678</th>\n",
       "      <td>4/28/2025 15:13</td>\n",
       "      <td>AnalyticsEngine</td>\n",
       "      <td>Email delivery problem affected system</td>\n",
       "      <td>Critical Error</td>\n",
       "      <td>bert</td>\n",
       "      <td>1</td>\n",
       "    </tr>\n",
       "  </tbody>\n",
       "</table>\n",
       "</div>"
      ],
      "text/plain": [
       "            timestamp           source  \\\n",
       "1     1/14/2025 23:07        ModernCRM   \n",
       "10     8/9/2025 18:58        ModernCRM   \n",
       "217    1/22/2025 5:45    BillingSystem   \n",
       "248    5/2/2025 23:04         ModernHR   \n",
       "265   3/30/2025 23:53        ModernCRM   \n",
       "361  11/19/2025 23:06    BillingSystem   \n",
       "450   10/27/2025 5:59    ThirdPartyAPI   \n",
       "477   12/2/2025 10:30  AnalyticsEngine   \n",
       "570   11/7/2025 18:08    ThirdPartyAPI   \n",
       "678   4/28/2025 15:13  AnalyticsEngine   \n",
       "\n",
       "                                          log_message    target_label  \\\n",
       "1      Email service experiencing issues with sending  Critical Error   \n",
       "10           Email server encountered a sending fault           Error   \n",
       "217        Mail service encountered a delivery glitch           Error   \n",
       "248  Service disruption caused by email sending error  Critical Error   \n",
       "265         Email system had a problem sending emails           Error   \n",
       "361         Email service experienced a sending issue           Error   \n",
       "450        Email delivery system encountered an error           Error   \n",
       "477    Email transmission error caused service impact  Critical Error   \n",
       "570         Email service impacted by sending failure  Critical Error   \n",
       "678            Email delivery problem affected system  Critical Error   \n",
       "\n",
       "    complexity  cluster  \n",
       "1         bert        1  \n",
       "10        bert        1  \n",
       "217       bert        1  \n",
       "248       bert        1  \n",
       "265       bert        1  \n",
       "361       bert        1  \n",
       "450       bert        1  \n",
       "477       bert        1  \n",
       "570       bert        1  \n",
       "678       bert        1  "
      ]
     },
     "execution_count": 11,
     "metadata": {},
     "output_type": "execute_result"
    }
   ],
   "source": [
    "# From these clustersour attempt is to find out the regex patterns\n",
    "df[df.cluster == 1].head(10)"
   ]
  },
  {
   "cell_type": "code",
   "execution_count": 12,
   "id": "36696d6b",
   "metadata": {},
   "outputs": [
    {
     "name": "stdout",
     "output_type": "stream",
     "text": [
      "Cluster 0: \n",
      "nova.osapi_compute.wsgi.server [req-b9718cd8-f6...\n",
      "nova.osapi_compute.wsgi.server [req-4895c258-b2...\n",
      "nova.osapi_compute.wsgi.server [req-ee8bc8ba-92...\n",
      "nova.osapi_compute.wsgi.server [req-f0bffbc3-5a...\n",
      "nova.osapi_compute.wsgi.server [req-2bf7cfee-a2...\n",
      "\n",
      "Cluster 5: \n",
      "nova.compute.claims [req-a07ac654-8e81-416d-bfb...\n",
      "nova.compute.claims [req-d6986b54-3735-4a42-907...\n",
      "nova.compute.claims [req-72b4858f-049e-49e1-b31...\n",
      "nova.compute.claims [req-5c8f52bd-8e3c-41f0-95a...\n",
      "nova.compute.claims [req-d38f479d-9bb9-4276-968...\n",
      "\n",
      "Cluster 11: \n",
      "User User685 logged out.\n",
      " User User395 logged in.\n",
      " User User225 logged in.\n",
      "User User494 logged out.\n",
      " User User900 logged in.\n",
      "\n",
      "Cluster 13: \n",
      "Backup started at 2025-05-14 07:06:55.\n",
      "Backup started at 2025-02-15 20:00:19.\n",
      "  Backup ended at 2025-08-08 13:06:23.\n",
      "Backup started at 2025-11-14 08:27:43.\n",
      "Backup started at 2025-12-09 10:19:11.\n",
      "\n",
      "Cluster 7: \n",
      "Multiple bad login attempts detected on user 85...\n",
      "Multiple login failures occurred on user 9052 a...\n",
      "  User 7153 made multiple incorrect login attempts\n",
      "  User 8300 made multiple incorrect login attempts\n",
      "Multiple login failures were detected for user ...\n",
      "\n",
      "Cluster 8: \n",
      "Backup completed successfully.\n",
      "Backup completed successfully.\n",
      "Backup completed successfully.\n",
      "Backup completed successfully.\n",
      "Backup completed successfully.\n",
      "\n",
      "Cluster 21: \n",
      "System updated to version 3.9.1.\n",
      "System updated to version 5.5.4.\n",
      "System updated to version 4.7.4.\n",
      "System updated to version 3.7.7.\n",
      "System updated to version 2.6.2.\n",
      "\n",
      "Cluster 3: \n",
      "         Shard 6 replication task ended in failure\n",
      "Data replication task for shard 14 did not comp...\n",
      "         Data replication task failed for shard 17\n",
      "            Replication of data to shard 14 failed\n",
      "Data replication task for shard 6 did not complete\n",
      "\n",
      "Cluster 4: \n",
      "File data_6169.csv uploaded successfully by use...\n",
      "File data_3847.csv uploaded successfully by use...\n",
      "File data_7366.csv uploaded successfully by use...\n",
      "File data_1206.csv uploaded successfully by use...\n",
      "File data_1503.csv uploaded successfully by use...\n",
      "\n",
      "Cluster 17: \n",
      "Denied access attempt on restricted account Acc...\n",
      "Unauthorized login attempt on protected account...\n",
      "   Account Account9437 blocked due to failed login\n",
      "Account Account7999 access denied due to login ...\n",
      "Invalid login attempt made on secured account A...\n",
      "\n",
      "Cluster 32: \n",
      "Disk cleanup completed successfully.\n",
      "Disk cleanup completed successfully.\n",
      "Disk cleanup completed successfully.\n",
      "Disk cleanup completed successfully.\n",
      "Disk cleanup completed successfully.\n",
      "\n",
      "Cluster 6: \n",
      "   Critical system unit error: unit ID Component55\n",
      "System component malfunction: component ID Comp...\n",
      "Critical system element is down: element ID Com...\n",
      "Essential system part malfunction: part ID Comp...\n",
      "Failure occurred in critical system component: ...\n",
      "\n",
      "Cluster 16: \n",
      "System reboot initiated by user User243.\n",
      "System reboot initiated by user User471.\n",
      "System reboot initiated by user User216.\n",
      "System reboot initiated by user User639.\n",
      "System reboot initiated by user User819.\n",
      "\n",
      "Cluster 20: \n",
      "   User 7662 tried to bypass API security measures\n",
      "User 2367 failed to provide valid API access cr...\n",
      "        User 3569 made an unauthorized API request\n",
      "Unauthorized user 2968 tried to access restrict...\n",
      "User 2186 attempted to access API without prope...\n",
      "\n",
      "Cluster 9: \n",
      "Account with ID 5351 created by User634.\n",
      "Account with ID 7813 created by User373.\n",
      "Account with ID 9827 created by User965.\n",
      "Account with ID 2520 created by User546.\n",
      "Account with ID 2300 created by User964.\n",
      "\n",
      "Cluster 1: \n",
      "  Email service experiencing issues with sending\n",
      "        Email server encountered a sending fault\n",
      "      Mail service encountered a delivery glitch\n",
      "Service disruption caused by email sending error\n",
      "       Email system had a problem sending emails\n",
      "\n",
      "Cluster 10: \n",
      "nova.compute.resource_tracker [req-addc1839-2ed...\n",
      "nova.compute.resource_tracker [req-addc1839-2ed...\n",
      "nova.compute.resource_tracker [req-addc1839-2ed...\n",
      "nova.compute.resource_tracker [req-addc1839-2ed...\n",
      "nova.compute.resource_tracker [req-addc1839-2ed...\n",
      "\n",
      "Cluster 34: \n",
      "Abnormal behavior found on server 10, possible ...\n",
      "   Security alert: suspicious activity on server 1\n",
      "Anomalous activity identified on server 23, sec...\n",
      "Server 27 experienced potential security incide...\n",
      "Server 36 experienced potential security incide...\n",
      "\n",
      "Cluster 14: \n",
      "   Detection of multiple disk faults in RAID setup\n",
      "  RAID array suffered multiple hard drive failures\n",
      "      RAID array experienced multiple disk crashes\n",
      "Multiple hard drive issues in RAID configuratio...\n",
      "Identification of multiple faulty disks in RAID...\n",
      "\n",
      "Cluster 53: \n",
      " Module X experienced an invalid data format issue\n",
      "        Input format mismatch occurred in module X\n",
      "Module X reported an error in input format vali...\n",
      "Module X failed to process input due to formatt...\n",
      "Input data format in module X was invalid or co...\n",
      "\n",
      "Cluster 52: \n",
      "Service health check was not successful because...\n",
      "Invalid SSL certificate resulted in a failed se...\n",
      "Service health check failure was due to an inva...\n",
      "An issue with the SSL certificate caused the se...\n",
      "Service health check failure was caused by an e...\n",
      "\n",
      "Cluster 18: \n",
      "Boot process terminated unexpectedly due to ker...\n",
      "System encountered kernel panic during initiali...\n",
      "    Boot process was stopped by kernel malfunction\n",
      "System encountered kernel failure during bootup...\n",
      "          Boot sequence failed due to kernel panic\n",
      "\n",
      "Cluster 25: \n",
      "         System configuration is no longer valid\n",
      "Configuration is corrupted throughout the system\n",
      "     Cross-system configuration failure occurred\n",
      "     System configuration is experiencing errors\n",
      "        Configuration malfunction is system-wide\n",
      "\n",
      "Cluster 42: \n",
      "User 5127 has escalated admin privileges withou...\n",
      "            User 9745 has escalated to admin level\n",
      "     User 8483 escalated privileges to admin level\n",
      "            User 1987 has escalated to admin level\n",
      "     User 8395 escalated privileges to admin level\n",
      "\n",
      "Cluster 59: \n",
      "Potential security threat: Admin privilege esca...\n",
      "    Admin privilege escalation alert for user 2893\n",
      "    Admin privilege escalation alert for user 8532\n",
      "Potential security threat: Admin privilege esca...\n",
      "Warning: Potential admin privilege escalation f...\n",
      "\n",
      "Cluster 26: \n",
      "        Privilege elevation detected for user 5038\n",
      "Elevation of admin privileges detected for user...\n",
      "Elevation of admin privileges detected for user...\n",
      "User 6069 has been granted elevated admin privi...\n",
      "   Admin privilege elevation warning for user 7574\n",
      "\n"
     ]
    }
   ],
   "source": [
    "cluster_counts = df['cluster'].value_counts()\n",
    "larger_clusters= cluster_counts[cluster_counts> 10].index\n",
    "\n",
    "for cluster in larger_clusters:\n",
    "    print(f\"Cluster {cluster}: \")\n",
    "    print(df[df['cluster'] == cluster]['log_message'].head(5).to_string(index=False))\n",
    "    print()"
   ]
  },
  {
   "cell_type": "code",
   "execution_count": 13,
   "id": "afb5656e",
   "metadata": {},
   "outputs": [],
   "source": [
    "# Now from these clusters we can make regex\n",
    "# Library for Regular Expressions\n",
    "import re\n",
    "def classify_with_regex(log_message):\n",
    "    regex_patterns = {\n",
    "        r\"User User\\d+ logged (in|out).\": \"User Action\",\n",
    "        r\"Backup (started|ended) at .*\": \"System Notification\",\n",
    "        r\"Backup completed successfully.\": \"System Notification\",\n",
    "        r\"System updated to version .*\": \"System Notification\",\n",
    "        r\"File .* uploaded successfully by user .*\": \"System Notification\",\n",
    "        r\"Disk cleanup completed successfully.\": \"System Notification\",\n",
    "        r\"System reboot initiated by user .*\": \"System Notification\",\n",
    "        r\"Account with ID .* created by .*\": \"User Action\"\n",
    "    }\n",
    "    for pattern, label in regex_patterns.items():\n",
    "        if re.search(pattern, log_message, re.IGNORECASE):\n",
    "            return label\n",
    "        \n",
    "    return None"
   ]
  },
  {
   "cell_type": "code",
   "execution_count": 14,
   "id": "564ecc99",
   "metadata": {},
   "outputs": [
    {
     "name": "stdout",
     "output_type": "stream",
     "text": [
      "(500, 7)\n"
     ]
    }
   ],
   "source": [
    "df['regex_label']= df['log_message'].apply(classify_with_regex)\n",
    "print(df[df.regex_label.notnull()].shape)"
   ]
  },
  {
   "cell_type": "code",
   "execution_count": 15,
   "id": "8d6b91eb",
   "metadata": {},
   "outputs": [
    {
     "name": "stdout",
     "output_type": "stream",
     "text": [
      "(1910, 7)\n"
     ]
    }
   ],
   "source": [
    "# Remaining data sampels that were not classififed by regex we save it in non_regex\n",
    "df_non_regex = df[df['regex_label'].isnull()].copy()\n",
    "print(df_non_regex.shape)"
   ]
  },
  {
   "cell_type": "code",
   "execution_count": 16,
   "id": "d0759dd8",
   "metadata": {},
   "outputs": [
    {
     "name": "stdout",
     "output_type": "stream",
     "text": [
      "['Workflow Error', 'Deprecation Warning']\n"
     ]
    }
   ],
   "source": [
    "# Print the target labels that have less than 5 samples, for these labels we can use LLM because we do not have many samples\n",
    "# By looking at the data we know that WorkFlow Error and Deprecation warning are only from LegacyCRM source\n",
    "# For non Legacy source samples we will again apply BERT for embeddings\n",
    "print(df_non_regex['target_label'].value_counts()[df_non_regex['target_label'].value_counts() <= 5].index.to_list())"
   ]
  },
  {
   "cell_type": "code",
   "execution_count": 17,
   "id": "f8a9d7c5",
   "metadata": {},
   "outputs": [
    {
     "data": {
      "text/plain": [
       "array(['ModernCRM', 'AnalyticsEngine', 'ModernHR', 'BillingSystem',\n",
       "       'ThirdPartyAPI'], dtype=object)"
      ]
     },
     "execution_count": 17,
     "metadata": {},
     "output_type": "execute_result"
    }
   ],
   "source": [
    "# To this df_non_legacy we again apply BERT and logistic regression\n",
    "df_non_legacy= df_non_regex[df_non_regex.source != \"LegacyCRM\"]\n",
    "df_non_legacy.source.unique()"
   ]
  },
  {
   "cell_type": "code",
   "execution_count": 18,
   "id": "5eb9b7e8",
   "metadata": {},
   "outputs": [
    {
     "name": "stdout",
     "output_type": "stream",
     "text": [
      "[[-0.10293964  0.03354589 -0.02202601 ...  0.00457782 -0.04259718\n",
      "   0.00322626]\n",
      " [ 0.00804574 -0.0357392   0.04938737 ...  0.01538317 -0.06230947\n",
      "  -0.02774666]\n",
      " [-0.00908221  0.13003926 -0.0527557  ...  0.02014106 -0.05117102\n",
      "  -0.02930291]\n",
      " ...\n",
      " [-0.04022278  0.0422435  -0.06610423 ...  0.02363656 -0.0053088\n",
      "   0.0204446 ]\n",
      " [-0.03603455  0.01960893  0.10052752 ...  0.03668107 -0.02487844\n",
      "  -0.00578846]\n",
      " [ 0.01457425  0.04911837 -0.00301353 ...  0.01029741 -0.00068495\n",
      "   0.00708861]]\n"
     ]
    }
   ],
   "source": [
    "# generate embeddings for log_mesages\n",
    "filtered_embeddings = model.encode(df_non_legacy['log_message'].tolist())\n",
    "print(filtered_embeddings)"
   ]
  },
  {
   "cell_type": "code",
   "execution_count": 19,
   "id": "692d16ca",
   "metadata": {},
   "outputs": [
    {
     "name": "stdout",
     "output_type": "stream",
     "text": [
      "                precision    recall  f1-score   support\n",
      "\n",
      "Critical Error       0.91      1.00      0.95        48\n",
      "         Error       0.98      0.89      0.93        47\n",
      "   HTTP Status       1.00      1.00      1.00       304\n",
      "Resource Usage       1.00      1.00      1.00        49\n",
      "Security Alert       1.00      0.99      1.00       123\n",
      "\n",
      "      accuracy                           0.99       571\n",
      "     macro avg       0.98      0.98      0.98       571\n",
      "  weighted avg       0.99      0.99      0.99       571\n",
      "\n"
     ]
    }
   ],
   "source": [
    "from sklearn.linear_model import LogisticRegression\n",
    "from sklearn.model_selection import train_test_split\n",
    "from sklearn.metrics import classification_report\n",
    "\n",
    "X = filtered_embeddings\n",
    "y = df_non_legacy[\"target_label\"]\n",
    "\n",
    "X_train, X_test, y_train, y_test = train_test_split(X,y, test_size=0.3, random_state=42)\n",
    "clf = LogisticRegression(max_iter=1000)\n",
    "clf.fit(X_train, y_train)\n",
    "y_pred = clf.predict(X_test)\n",
    "report = classification_report(y_test, y_pred)\n",
    "print(report)"
   ]
  },
  {
   "cell_type": "code",
   "execution_count": 23,
   "id": "b0d2df99",
   "metadata": {},
   "outputs": [
    {
     "data": {
      "text/plain": [
       "['../models/log-classifier.joblib']"
      ]
     },
     "execution_count": 23,
     "metadata": {},
     "output_type": "execute_result"
    }
   ],
   "source": [
    "import joblib\n",
    "joblib.dump( clf, \"../models/log-classifier.joblib\")"
   ]
  }
 ],
 "metadata": {
  "kernelspec": {
   "display_name": "venv",
   "language": "python",
   "name": "python3"
  },
  "language_info": {
   "codemirror_mode": {
    "name": "ipython",
    "version": 3
   },
   "file_extension": ".py",
   "mimetype": "text/x-python",
   "name": "python",
   "nbconvert_exporter": "python",
   "pygments_lexer": "ipython3",
   "version": "3.12.1"
  }
 },
 "nbformat": 4,
 "nbformat_minor": 5
}
